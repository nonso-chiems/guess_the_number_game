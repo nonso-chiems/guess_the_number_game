{
 "cells": [
  {
   "cell_type": "markdown",
   "id": "3e00da20-3fbc-46f7-aa28-82011b6af0b1",
   "metadata": {},
   "source": [
    "# ===== Guess The Number Game ====="
   ]
  },
  {
   "cell_type": "markdown",
   "id": "12ff579b-2a01-4823-be34-77b100e9efc6",
   "metadata": {},
   "source": [
    "- Conditional Statements/Control Flow/Logical Statement\n",
    "- For Loop\n",
    "- Functions"
   ]
  },
  {
   "cell_type": "markdown",
   "id": "fa44d8da-f97c-4551-b293-60bf3b319957",
   "metadata": {},
   "source": [
    "## Conditional Statements"
   ]
  },
  {
   "cell_type": "markdown",
   "id": "404aa88f-8394-4461-b64c-d51b7187256f",
   "metadata": {},
   "source": [
    "Lets state the conditions. \n",
    "\n",
    "0 - 12 > Child \n",
    "\n",
    "13 - 19 > Teens\n",
    "\n",
    "20 - 35 > Young Adult or Youth\n",
    "\n",
    "36 - 50 > Adult or Middle Aged\n",
    "\n",
    "51 - Above > Senior Citizen or Elderly"
   ]
  },
  {
   "cell_type": "code",
   "execution_count": null,
   "id": "aee26514-6a3e-495a-91f5-1ebe862c3d28",
   "metadata": {},
   "outputs": [],
   "source": [
    "age = 55"
   ]
  },
  {
   "cell_type": "code",
   "execution_count": null,
   "id": "15803025-3dbd-4303-bc71-ab4b41da8903",
   "metadata": {},
   "outputs": [],
   "source": [
    "if 0 <= age <= 12:\n",
    "    print(\"Child\")\n",
    "elif 13 <= age <= 19:\n",
    "    print(\"Teens\")\n",
    "elif 20 <= age <= 35:\n",
    "    print(\"Youth or Young Adult\")\n",
    "elif 36 <= age <= 50:\n",
    "    print(\"Adult or Middle Aged\")\n",
    "else:\n",
    "    print(\"Senior Citizen or Elderly\")"
   ]
  },
  {
   "cell_type": "markdown",
   "id": "05e1a61a-1a1f-440e-9b08-0efd5d62c51c",
   "metadata": {},
   "source": [
    "## For Loops"
   ]
  },
  {
   "cell_type": "code",
   "execution_count": null,
   "id": "e866dd84-8b33-4843-b513-9e6f5429ddb9",
   "metadata": {},
   "outputs": [],
   "source": [
    "wish_list = [\n",
    "    \"Job\", \n",
    "    \"Wife\", \n",
    "    \"Kid\", \n",
    "    \"Dollars\", \n",
    "    \"Mansion\", \n",
    "    \"Scholarship\", \n",
    "    \"Cat\", \n",
    "    \"Vacation\", \n",
    "    \"Travel\", \n",
    "    \"Private Jet\", \n",
    "    \"Peace\"\n",
    "]"
   ]
  },
  {
   "cell_type": "code",
   "execution_count": null,
   "id": "d05d360f-52ea-4f6f-958b-82ace25f7a58",
   "metadata": {},
   "outputs": [],
   "source": [
    "wish_list"
   ]
  },
  {
   "cell_type": "code",
   "execution_count": null,
   "id": "26d9529e-29d2-4c00-94c3-3a2bfe98f37c",
   "metadata": {},
   "outputs": [],
   "source": [
    "print(wish_list[0])\n",
    "print(wish_list[1])\n",
    "print(wish_list[10])"
   ]
  },
  {
   "cell_type": "code",
   "execution_count": null,
   "id": "7add532d-c29f-44d3-ae33-46e017a3158e",
   "metadata": {},
   "outputs": [],
   "source": [
    "for wish in wish_list:\n",
    "    print(wish)"
   ]
  },
  {
   "cell_type": "markdown",
   "id": "23670578-87f8-47e0-9eb2-832fdb877be8",
   "metadata": {},
   "source": [
    "## Functions\n",
    "- View or print\n",
    "- Withdraw or return"
   ]
  },
  {
   "cell_type": "code",
   "execution_count": null,
   "id": "c950af6e-e8b6-4783-8845-298945acfcff",
   "metadata": {},
   "outputs": [],
   "source": [
    "print(\"Hello Junior, hope you are enjoying learning Python\")"
   ]
  },
  {
   "cell_type": "code",
   "execution_count": null,
   "id": "145d56da-7b4a-41c3-b413-3162e7df2497",
   "metadata": {},
   "outputs": [],
   "source": [
    "print(\"Hello Rotondwa, hope you are enjoying learning Python\")"
   ]
  },
  {
   "cell_type": "code",
   "execution_count": null,
   "id": "62453ceb-2c93-46b3-9a5a-0b094b6b0de3",
   "metadata": {},
   "outputs": [],
   "source": [
    "def greeting(name):\n",
    "    print(\"Hello,\", name, \"hope you are enjoying learning Python\")"
   ]
  },
  {
   "cell_type": "code",
   "execution_count": 30,
   "id": "e7c33775-bf04-49db-bc64-f58120d099cc",
   "metadata": {},
   "outputs": [
    {
     "name": "stdout",
     "output_type": "stream",
     "text": [
      "Hello, Beimnet hope you are enjoying learning Python\n"
     ]
    }
   ],
   "source": [
    "greeting(\"Beimnet\")"
   ]
  },
  {
   "cell_type": "code",
   "execution_count": 31,
   "id": "4116ac6e-343e-49ff-91d1-31778bba4644",
   "metadata": {},
   "outputs": [
    {
     "name": "stdout",
     "output_type": "stream",
     "text": [
      "Hello, Samuel hope you are enjoying learning Python\n"
     ]
    }
   ],
   "source": [
    "greeting(\"Samuel\")"
   ]
  },
  {
   "cell_type": "code",
   "execution_count": 32,
   "id": "971864b9-f1d3-4ca8-a30e-bd03abb601f9",
   "metadata": {},
   "outputs": [],
   "source": [
    "list_of_names = [\n",
    "    \"Beimnet\",\n",
    "    \"Samuel\",\n",
    "    \"Junior\", \n",
    "    \"Rose\", \n",
    "    \"Philex\",\n",
    "    \"Glory\"\n",
    "]"
   ]
  },
  {
   "cell_type": "code",
   "execution_count": 33,
   "id": "b92db21d-ba25-4d3b-8b34-abcc70b7f02d",
   "metadata": {},
   "outputs": [
    {
     "name": "stdout",
     "output_type": "stream",
     "text": [
      "Hello, Beimnet hope you are enjoying learning Python\n",
      "Hello, Samuel hope you are enjoying learning Python\n",
      "Hello, Junior hope you are enjoying learning Python\n",
      "Hello, Rose hope you are enjoying learning Python\n",
      "Hello, Philex hope you are enjoying learning Python\n",
      "Hello, Glory hope you are enjoying learning Python\n"
     ]
    }
   ],
   "source": [
    "for name in list_of_names:\n",
    "    greeting(name)"
   ]
  },
  {
   "cell_type": "code",
   "execution_count": 36,
   "id": "bdda388a-3e23-43bb-af55-17b540a3cd2c",
   "metadata": {},
   "outputs": [
    {
     "name": "stdout",
     "output_type": "stream",
     "text": [
      "Hello, Glory hope you are enjoying learning Python\n"
     ]
    }
   ],
   "source": [
    "abc = greeting(name)"
   ]
  },
  {
   "cell_type": "code",
   "execution_count": 37,
   "id": "7de86643-849c-4564-aa4e-0450e471f8e0",
   "metadata": {},
   "outputs": [],
   "source": [
    "abc"
   ]
  },
  {
   "cell_type": "code",
   "execution_count": 38,
   "id": "0e3edf69-c036-4325-bbb5-02158fe3db71",
   "metadata": {},
   "outputs": [],
   "source": [
    "def addition(a,b):\n",
    "    added = a + b\n",
    "    return added"
   ]
  },
  {
   "cell_type": "code",
   "execution_count": 39,
   "id": "a38e1d42-f988-4ef6-8f49-e7f55cf6bfad",
   "metadata": {},
   "outputs": [],
   "source": [
    "add_numbers = addition(7, 8)"
   ]
  },
  {
   "cell_type": "code",
   "execution_count": 40,
   "id": "7a550a08-f5e4-43bf-8b1b-7fd8a3eb8a41",
   "metadata": {},
   "outputs": [
    {
     "data": {
      "text/plain": [
       "15"
      ]
     },
     "execution_count": 40,
     "metadata": {},
     "output_type": "execute_result"
    }
   ],
   "source": [
    "add_numbers"
   ]
  },
  {
   "cell_type": "markdown",
   "id": "8c18f8c7-1dd5-417b-b458-bdb0131e1f55",
   "metadata": {},
   "source": [
    "## Game on, Let's Play VI"
   ]
  },
  {
   "cell_type": "code",
   "execution_count": 43,
   "id": "a479b99d-8d57-4165-b5ce-4bba4072ef41",
   "metadata": {},
   "outputs": [
    {
     "name": "stdout",
     "output_type": "stream",
     "text": [
      "***** Guess The Game *****\n"
     ]
    }
   ],
   "source": [
    "print(\"***** Guess The Game *****\")"
   ]
  },
  {
   "cell_type": "code",
   "execution_count": 44,
   "id": "178e41f4-6861-4125-b712-1f4f7c9a9a08",
   "metadata": {},
   "outputs": [
    {
     "name": "stdout",
     "output_type": "stream",
     "text": [
      "\n",
      "***** Guess The Game *****\n"
     ]
    }
   ],
   "source": [
    "print()\n",
    "print(\"***** Guess The Game *****\")"
   ]
  },
  {
   "cell_type": "code",
   "execution_count": 46,
   "id": "71450fff-434f-429b-b640-e65b875af083",
   "metadata": {},
   "outputs": [
    {
     "name": "stdout",
     "output_type": "stream",
     "text": [
      "\n",
      "***** Guess The Game *****\n"
     ]
    }
   ],
   "source": [
    "print(\"\\n***** Guess The Game *****\")"
   ]
  },
  {
   "cell_type": "code",
   "execution_count": 49,
   "id": "5eb30a95-4f3c-4dfc-8006-7bd881bf77d7",
   "metadata": {},
   "outputs": [],
   "source": [
    "secret_number = 7 # number between 1 - 10"
   ]
  },
  {
   "cell_type": "code",
   "execution_count": 56,
   "id": "563ad4a2-e076-438a-986a-848661504821",
   "metadata": {},
   "outputs": [],
   "source": [
    "guess = 2"
   ]
  },
  {
   "cell_type": "code",
   "execution_count": 57,
   "id": "327be800-6a97-4350-9248-0e713af4ebdb",
   "metadata": {},
   "outputs": [
    {
     "name": "stdout",
     "output_type": "stream",
     "text": [
      "Oops, low!!! Guess a higher number\n"
     ]
    }
   ],
   "source": [
    "if guess == secret_number:\n",
    "    print(\"Congratulations!!! You guessed right!!!\")\n",
    "elif guess > secret_number:\n",
    "    print(\"Oops, high!!! Guess a lower number\")\n",
    "else: \n",
    "    print(\"Oops, low!!! Guess a higher number\")"
   ]
  },
  {
   "cell_type": "code",
   "execution_count": null,
   "id": "2932d1fd-d75f-4e7d-af4b-f72fc36db35d",
   "metadata": {},
   "outputs": [],
   "source": []
  },
  {
   "cell_type": "markdown",
   "id": "c7bf19da-8534-4047-9183-2923cd56a788",
   "metadata": {},
   "source": [
    "### Limitiations of the above version of the game\n",
    "- not fun\n",
    "- having to manually repeat the number\n",
    "- the secret number is not secret"
   ]
  },
  {
   "cell_type": "markdown",
   "id": "a77ee2f8-9fac-4a03-a0cb-778d029dc616",
   "metadata": {},
   "source": [
    "### Make the secret number secret"
   ]
  },
  {
   "cell_type": "markdown",
   "id": "a8b02b26-f3d3-4364-9782-822f8108ee1b",
   "metadata": {},
   "source": [
    "## Game on, Let's Play V2"
   ]
  },
  {
   "cell_type": "code",
   "execution_count": 59,
   "id": "a87e23e6-0eea-440c-9615-253488d2e6bd",
   "metadata": {},
   "outputs": [],
   "source": [
    "import random"
   ]
  },
  {
   "cell_type": "code",
   "execution_count": 78,
   "id": "e731ee67-6c92-47a5-9184-3557c11ffa9f",
   "metadata": {},
   "outputs": [],
   "source": [
    "secret_number = random.randint(1, 10)"
   ]
  },
  {
   "cell_type": "code",
   "execution_count": 79,
   "id": "9b92dc0a-8083-4b10-b0dd-73492f0e4103",
   "metadata": {},
   "outputs": [],
   "source": [
    "guess = 11"
   ]
  },
  {
   "cell_type": "code",
   "execution_count": 80,
   "id": "56e637a9-9a34-498c-a92d-0d8884195b8f",
   "metadata": {},
   "outputs": [
    {
     "name": "stdout",
     "output_type": "stream",
     "text": [
      "Oops, high!!! Guess a lower number\n"
     ]
    }
   ],
   "source": [
    "if guess == secret_number:\n",
    "    print(\"Congratulations!!! You guessed right!!!\")\n",
    "elif guess > secret_number:\n",
    "    print(\"Oops, high!!! Guess a lower number\")\n",
    "else: \n",
    "    print(\"Oops, low!!! Guess a higher number\")"
   ]
  },
  {
   "cell_type": "markdown",
   "id": "4d23a69f-deeb-4d28-824b-3211bbac4933",
   "metadata": {},
   "source": [
    "- Create different functions for different sections of the game\n",
    "- Create 1 function that contains the entire game"
   ]
  },
  {
   "cell_type": "code",
   "execution_count": 81,
   "id": "4e26b89c-f96b-4333-b4f4-e1c879a8e7d4",
   "metadata": {},
   "outputs": [],
   "source": [
    "name = \"Andrew\"\n",
    "age = 45\n",
    "country = \"South Africa\""
   ]
  },
  {
   "cell_type": "code",
   "execution_count": 82,
   "id": "439a05a1-3e63-43b6-8b12-6a1227812940",
   "metadata": {},
   "outputs": [
    {
     "name": "stdout",
     "output_type": "stream",
     "text": [
      "Andrew\n",
      "45\n",
      "South Africa\n"
     ]
    }
   ],
   "source": [
    "print(name)\n",
    "print(age)\n",
    "print(country)"
   ]
  },
  {
   "cell_type": "code",
   "execution_count": null,
   "id": "31abd7fe-c6fa-412b-b775-71664690d20b",
   "metadata": {},
   "outputs": [],
   "source": []
  },
  {
   "cell_type": "code",
   "execution_count": 83,
   "id": "ae0d94ea-7ce3-414b-bc7f-55a792626402",
   "metadata": {},
   "outputs": [
    {
     "name": "stdin",
     "output_type": "stream",
     "text": [
      " Chigozie\n",
      " 23\n",
      " Kenya\n"
     ]
    }
   ],
   "source": [
    "name = input()\n",
    "age = input()\n",
    "country = input()"
   ]
  },
  {
   "cell_type": "code",
   "execution_count": 84,
   "id": "a7700032-8ccb-4399-aeed-d1fd3da60e0c",
   "metadata": {},
   "outputs": [
    {
     "name": "stdout",
     "output_type": "stream",
     "text": [
      "Chigozie\n",
      "23\n",
      "Kenya\n"
     ]
    }
   ],
   "source": [
    "print(name)\n",
    "print(age)\n",
    "print(country)"
   ]
  },
  {
   "cell_type": "code",
   "execution_count": null,
   "id": "1db5459a-cf7e-412c-b825-cd14ad36c04b",
   "metadata": {},
   "outputs": [],
   "source": []
  },
  {
   "cell_type": "markdown",
   "id": "31e60862-2e76-4b78-a837-fbecc6df1711",
   "metadata": {},
   "source": [
    "## Game on, Let's Play V3"
   ]
  },
  {
   "cell_type": "code",
   "execution_count": 93,
   "id": "efd567d5-c4bb-47a7-8571-8225ed6d73af",
   "metadata": {},
   "outputs": [
    {
     "name": "stdout",
     "output_type": "stream",
     "text": [
      "\n",
      "====== Guess The Number Game =====\n",
      "\n",
      "I'm thinking of a number between 1 - 10\n",
      "\n",
      "Try guess the number\n",
      "\n"
     ]
    },
    {
     "name": "stdin",
     "output_type": "stream",
     "text": [
      " 5\n"
     ]
    },
    {
     "name": "stdout",
     "output_type": "stream",
     "text": [
      "Oops, low!!! Guess a higher number\n"
     ]
    }
   ],
   "source": [
    "print(\"\\n====== Guess The Number Game =====\")\n",
    "print(\"\\nI'm thinking of a number between 1 - 10\")\n",
    "print(\"\\nTry guess the number\")\n",
    "\n",
    "secret_number =  random.randint(1, 10)\n",
    "\n",
    "print()\n",
    "guess = int(input())\n",
    "\n",
    "if guess == secret_number:\n",
    "    print(\"Congratulations!!! You guessed right!!!\")\n",
    "elif guess > secret_number:\n",
    "    print(\"Oops, high!!! Guess a lower number\")\n",
    "else: \n",
    "    print(\"Oops, low!!! Guess a higher number\")"
   ]
  },
  {
   "cell_type": "code",
   "execution_count": null,
   "id": "67148556-56e1-4844-bada-3ed61d373d97",
   "metadata": {},
   "outputs": [],
   "source": []
  },
  {
   "cell_type": "code",
   "execution_count": 94,
   "id": "6b91d3ea-e976-4dc0-b24f-7fb973b5b046",
   "metadata": {},
   "outputs": [
    {
     "name": "stdout",
     "output_type": "stream",
     "text": [
      "1\n",
      "2\n",
      "3\n",
      "4\n",
      "5\n",
      "6\n",
      "7\n",
      "8\n",
      "9\n",
      "10\n"
     ]
    }
   ],
   "source": [
    "list_of_num = [1, 2, 3, 4, 5, 6, 7, 8, 9, 10]\n",
    "\n",
    "for number in list_of_num:\n",
    "    print(number)"
   ]
  },
  {
   "cell_type": "code",
   "execution_count": 96,
   "id": "26b35b76-cfde-4728-979b-0d07cafd3556",
   "metadata": {},
   "outputs": [
    {
     "name": "stdout",
     "output_type": "stream",
     "text": [
      "1\n",
      "2\n",
      "3\n",
      "4\n",
      "5\n",
      "6\n",
      "7\n",
      "8\n",
      "9\n",
      "10\n",
      "11\n",
      "12\n",
      "13\n",
      "14\n",
      "15\n",
      "16\n",
      "17\n",
      "18\n",
      "19\n",
      "20\n"
     ]
    }
   ],
   "source": [
    "for num in range(1, 21):\n",
    "    print(num)"
   ]
  },
  {
   "cell_type": "code",
   "execution_count": null,
   "id": "e3ea2857-627f-4be0-bb84-17d47cf3ac43",
   "metadata": {},
   "outputs": [],
   "source": []
  },
  {
   "cell_type": "markdown",
   "id": "31ac5edc-39bb-42dc-b8cc-6ff3f0768fbc",
   "metadata": {},
   "source": [
    "## Game on, Let's Play V4"
   ]
  },
  {
   "cell_type": "code",
   "execution_count": 103,
   "id": "221c02f8-6200-41e0-82dc-db8262ea8a7f",
   "metadata": {},
   "outputs": [
    {
     "data": {
      "text/plain": [
       "3"
      ]
     },
     "execution_count": 103,
     "metadata": {},
     "output_type": "execute_result"
    }
   ],
   "source": [
    "random.randint(1, 10)"
   ]
  },
  {
   "cell_type": "code",
   "execution_count": 105,
   "id": "7f0eab60-c5bd-4f20-b65f-f1c196926b13",
   "metadata": {},
   "outputs": [
    {
     "name": "stdout",
     "output_type": "stream",
     "text": [
      "\n",
      "====== Guess The Number Game =====\n",
      "\n",
      "I'm thinking of a number between 1 - 10\n",
      "\n",
      "Try guess the number\n",
      "10\n",
      "\n"
     ]
    },
    {
     "name": "stdin",
     "output_type": "stream",
     "text": [
      " 10\n"
     ]
    },
    {
     "name": "stdout",
     "output_type": "stream",
     "text": [
      "Congratulations!!! You guessed right!!!\n"
     ]
    }
   ],
   "source": [
    "print(\"\\n====== Guess The Number Game =====\")\n",
    "print(\"\\nI'm thinking of a number between 1 - 10\")\n",
    "print(\"\\nTry guess the number\")\n",
    "\n",
    "secret_number =  random.randint(1, 10)\n",
    "\n",
    "print(secret_number)\n",
    "\n",
    "\n",
    "for attempt in range(1, 6):\n",
    "    \n",
    "    print()\n",
    "    guess = int(input())\n",
    "    \n",
    "    if guess == secret_number:\n",
    "        print(\"Congratulations!!! You guessed right!!!\")\n",
    "        break\n",
    "    elif guess > secret_number:\n",
    "        print(\"Oops, high!!! Guess a lower number\")\n",
    "    else: \n",
    "        print(\"Oops, low!!! Guess a higher number\")"
   ]
  },
  {
   "cell_type": "code",
   "execution_count": null,
   "id": "8278aca4-3b6e-4103-bb07-c8bad858a506",
   "metadata": {},
   "outputs": [],
   "source": []
  },
  {
   "cell_type": "code",
   "execution_count": null,
   "id": "f6951be5-a9b3-431e-ad4b-b28fc5666910",
   "metadata": {},
   "outputs": [],
   "source": []
  },
  {
   "cell_type": "markdown",
   "id": "5263cbc4-bf72-41d8-b6cf-091002f340ec",
   "metadata": {},
   "source": [
    "## Game on, Let's Play V5\n",
    "# Create Number of Attempts"
   ]
  },
  {
   "cell_type": "code",
   "execution_count": 115,
   "id": "ea266265-b957-4157-a041-232961eae597",
   "metadata": {},
   "outputs": [
    {
     "name": "stdout",
     "output_type": "stream",
     "text": [
      "\n",
      "====== Guess The Number Game =====\n",
      "\n",
      "I'm thinking of a number between 1 - 10\n",
      "\n",
      "Try guess the number\n",
      "\n",
      " You have 3 attempts\n",
      "6\n",
      "\n"
     ]
    },
    {
     "name": "stdin",
     "output_type": "stream",
     "text": [
      " 6\n"
     ]
    },
    {
     "name": "stdout",
     "output_type": "stream",
     "text": [
      "Congratulations!!! You guessed right!!!\n",
      "\n",
      "Sorry, Game Over You have exhausted your attempts\n",
      "The Secret number is: 6\n",
      "Better luck next time\n"
     ]
    }
   ],
   "source": [
    "print(\"\\n====== Guess The Number Game =====\")\n",
    "print(\"\\nI'm thinking of a number between 1 - 10\")\n",
    "print(\"\\nTry guess the number\")\n",
    "print(\"\\n You have 3 attempts\")\n",
    "\n",
    "secret_number =  random.randint(1, 10)\n",
    "\n",
    "print(secret_number)\n",
    "\n",
    "for attempt in range(1, 4):\n",
    "    \n",
    "    print()\n",
    "    guess = int(input())\n",
    "    \n",
    "    if guess == secret_number:\n",
    "        print(\"Congratulations!!! You guessed right!!!\")\n",
    "        break\n",
    "    elif guess > secret_number:\n",
    "        print(\"\\nOops, high!!! Guess a lower number. Attempts left =\", 3 - attempt)\n",
    "    else: \n",
    "        print(\"\\nOops, low!!! Guess a higher number. Attempts left =\", 3 - attempt)\n",
    "\n",
    "print(\"\\nSorry, Game Over\", \"You have exhausted your attempts\") \n",
    "print(\"The Secret number is:\", secret_number)\n",
    "print(\"Better luck next time\")"
   ]
  },
  {
   "cell_type": "code",
   "execution_count": null,
   "id": "ec7f7117-1b3f-4422-9251-9dc6f99338fb",
   "metadata": {},
   "outputs": [],
   "source": []
  },
  {
   "cell_type": "code",
   "execution_count": null,
   "id": "564bdcdb-6258-4dec-bea2-300f02e5df2d",
   "metadata": {},
   "outputs": [],
   "source": []
  },
  {
   "cell_type": "markdown",
   "id": "1a43345e-5647-4acc-95a6-61316cfe85eb",
   "metadata": {},
   "source": [
    "## Game on, Let's Play V6\n"
   ]
  },
  {
   "cell_type": "code",
   "execution_count": 122,
   "id": "ab710875-31eb-4b2d-91c7-fff25d72ec64",
   "metadata": {},
   "outputs": [],
   "source": [
    "def guess_the_number():\n",
    "    \n",
    "\n",
    "    print(\"\\n====== Guess The Number Game =====\")\n",
    "    print(\"\\nI'm thinking of a number between 1 - 10\")\n",
    "    print(\"\\nTry guess the number\")\n",
    "    print(\"\\n You have 3 attempts\")\n",
    "    \n",
    "    secret_number =  random.randint(1, 10)\n",
    "    \n",
    "    \n",
    "    \n",
    "    for attempt in range(1, 4):\n",
    "        \n",
    "        print()\n",
    "        guess = int(input())\n",
    "        \n",
    "        if guess == secret_number:\n",
    "            print(\"Congratulations!!! You guessed right!!!\")\n",
    "            return\n",
    "        elif guess > secret_number:\n",
    "            print(\"\\nOops, high!!! Guess a lower number. Attempts left =\", 3 - attempt)\n",
    "        else: \n",
    "            print(\"\\nOops, low!!! Guess a higher number. Attempts left =\", 3 - attempt)\n",
    "    \n",
    "    print(\"\\nSorry, Game Over\", \"You have exhausted your attempts\") \n",
    "    print(\"The Secret number is:\", secret_number)\n",
    "    print(\"Better luck next time\")"
   ]
  },
  {
   "cell_type": "code",
   "execution_count": 123,
   "id": "5715021a-82d0-4ece-b54a-efb73bef8dbe",
   "metadata": {},
   "outputs": [
    {
     "name": "stdout",
     "output_type": "stream",
     "text": [
      "\n",
      "====== Guess The Number Game =====\n",
      "\n",
      "I'm thinking of a number between 1 - 10\n",
      "\n",
      "Try guess the number\n",
      "\n",
      " You have 3 attempts\n",
      "\n"
     ]
    },
    {
     "name": "stdin",
     "output_type": "stream",
     "text": [
      " 8\n"
     ]
    },
    {
     "name": "stdout",
     "output_type": "stream",
     "text": [
      "\n",
      "Oops, high!!! Guess a lower number. Attempts left = 2\n",
      "\n"
     ]
    },
    {
     "name": "stdin",
     "output_type": "stream",
     "text": [
      " 5\n"
     ]
    },
    {
     "name": "stdout",
     "output_type": "stream",
     "text": [
      "\n",
      "Oops, high!!! Guess a lower number. Attempts left = 1\n",
      "\n"
     ]
    },
    {
     "name": "stdin",
     "output_type": "stream",
     "text": [
      " 1\n"
     ]
    },
    {
     "name": "stdout",
     "output_type": "stream",
     "text": [
      "\n",
      "Oops, low!!! Guess a higher number. Attempts left = 0\n",
      "\n",
      "Sorry, Game Over You have exhausted your attempts\n",
      "The Secret number is: 2\n",
      "Better luck next time\n"
     ]
    }
   ],
   "source": [
    "guess_the_number()"
   ]
  },
  {
   "cell_type": "code",
   "execution_count": null,
   "id": "e4be7072-187b-468c-8ed2-9ccd2f07eaca",
   "metadata": {},
   "outputs": [],
   "source": []
  }
 ],
 "metadata": {
  "kernelspec": {
   "display_name": "Python [conda env:base] *",
   "language": "python",
   "name": "conda-base-py"
  },
  "language_info": {
   "codemirror_mode": {
    "name": "ipython",
    "version": 3
   },
   "file_extension": ".py",
   "mimetype": "text/x-python",
   "name": "python",
   "nbconvert_exporter": "python",
   "pygments_lexer": "ipython3",
   "version": "3.13.5"
  }
 },
 "nbformat": 4,
 "nbformat_minor": 5
}
